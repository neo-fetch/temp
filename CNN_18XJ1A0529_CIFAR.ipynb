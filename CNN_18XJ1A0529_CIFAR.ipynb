{
 "cells": [
  {
   "cell_type": "code",
   "execution_count": 4,
   "metadata": {},
   "outputs": [
    {
     "name": "stdout",
     "output_type": "stream",
     "text": [
      "Num GPUs Available:  1\n",
      "Num CPUs Available:  1\n"
     ]
    }
   ],
   "source": [
    "# !nvidia-smi\n",
    "# !pip install keras\n",
    "# !pip install torch\n",
    "# !pip install tensorflow-gpu\n",
    "print(\"Num GPUs Available: \", len(tf.config.list_physical_devices('GPU')))\n",
    "print(\"Num CPUs Available: \", len(tf.config.list_physical_devices('CPU')))"
   ]
  },
  {
   "cell_type": "code",
   "execution_count": 5,
   "metadata": {},
   "outputs": [],
   "source": [
    "import numpy as np\n",
    "import tensorflow as tf\n",
    "from keras.datasets import cifar10 as cifar\n",
    "from tensorflow.python.client import device_lib\n",
    "from tensorflow.keras.utils import to_categorical as one_hot\n",
    "from keras.preprocessing.image import ImageDataGenerator\n",
    "from keras.callbacks import LearningRateScheduler\n",
    "from keras.models import Sequential\n",
    "from keras.layers import Dropout, Dense, Activation, Flatten, BatchNormalization\n",
    "from keras.layers import Conv2D, MaxPooling2D\n",
    "from keras import regularizers\n",
    "from tensorflow.keras.optimizers import Adam\n",
    "\n",
    "import matplotlib.pyplot as plt\n",
    "%matplotlib inline"
   ]
  },
  {
   "cell_type": "code",
   "execution_count": 6,
   "metadata": {},
   "outputs": [
    {
     "name": "stdout",
     "output_type": "stream",
     "text": [
      "Downloading data from https://www.cs.toronto.edu/~kriz/cifar-10-python.tar.gz\n",
      "170500096/170498071 [==============================] - 27s 0us/step\n",
      "170508288/170498071 [==============================] - 27s 0us/step\n"
     ]
    },
    {
     "data": {
      "text/plain": [
       "((50000, 32, 32, 3), (10000, 32, 32, 3), (50000, 1), (10000, 1))"
      ]
     },
     "execution_count": 6,
     "metadata": {},
     "output_type": "execute_result"
    }
   ],
   "source": [
    "(X_train, y_train), (X_test, y_test) = cifar.load_data()\n",
    "X_train.shape, X_test.shape, y_train.shape, y_test.shape"
   ]
  },
  {
   "cell_type": "code",
   "execution_count": 7,
   "metadata": {},
   "outputs": [
    {
     "name": "stdout",
     "output_type": "stream",
     "text": [
      "X_train[45968]:\n"
     ]
    },
    {
     "data": {
      "image/png": "[encoded data removed]",
      "text/plain": [
       "<Figure size 432x288 with 1 Axes>"
      ]
     },
     "metadata": {
      "needs_background": "light"
     },
     "output_type": "display_data"
    },
    {
     "name": "stdout",
     "output_type": "stream",
     "text": [
      "X_train[15868]:\n"
     ]
    },
    {
     "data": {
      "image/png": "[encoded data removed]",
      "text/plain": [
       "<Figure size 432x288 with 1 Axes>"
      ]
     },
     "metadata": {
      "needs_background": "light"
     },
     "output_type": "display_data"
    },
    {
     "name": "stdout",
     "output_type": "stream",
     "text": [
      "X_train[4562]:\n"
     ]
    },
    {
     "data": {
      "image/png": "[encoded data removed]",
      "text/plain": [
       "<Figure size 432x288 with 1 Axes>"
      ]
     },
     "metadata": {
      "needs_background": "light"
     },
     "output_type": "display_data"
    }
   ],
   "source": [
    "for i in np.random.randint(len(X_train), size=3):\n",
    "    print(f\"X_train[{i}]:\")\n",
    "    plt.imshow(X_train[i] , cmap='gray')\n",
    "    plt.show()"
   ]
  },
  {
   "cell_type": "code",
   "execution_count": 8,
   "metadata": {},
   "outputs": [],
   "source": [
    "X_train = X_train.astype('float32')\n",
    "X_test = X_test.astype('float32')\n",
    "\n",
    "# Normalize the data: using Z-score\n",
    "X_train_mean = np.mean(X_train, axis=0)\n",
    "X_train_std = np.std(X_train, axis=0)\n",
    "X_train = (X_train - X_train_mean) / X_train_std + 1e-10 # 1e-10 is to avoid zero division\n",
    "X_test = (X_test - X_train_mean) / X_train_std + 1e-10"
   ]
  },
  {
   "cell_type": "code",
   "execution_count": 9,
   "metadata": {},
   "outputs": [],
   "source": [
    "# We need to one-hot encode the labels for the softmax classifier in the output layer\n",
    "Y_train = one_hot(y_train, 10)\n",
    "Y_test = one_hot(y_test, 10)"
   ]
  },
  {
   "cell_type": "code",
   "execution_count": 10,
   "metadata": {},
   "outputs": [
    {
     "name": "stderr",
     "output_type": "stream",
     "text": [
      "2021-12-18 02:04:21.020219: I tensorflow/core/platform/cpu_feature_guard.cc:151] This TensorFlow binary is optimized with oneAPI Deep Neural Network Library (oneDNN) to use the following CPU instructions in performance-critical operations:  SSE3 SSE4.1 SSE4.2 AVX AVX2 FMA\n",
      "To enable them in other operations, rebuild TensorFlow with the appropriate compiler flags.\n",
      "2021-12-18 02:04:21.021608: I tensorflow/stream_executor/cuda/cuda_gpu_executor.cc:939] successful NUMA node read from SysFS had negative value (-1), but there must be at least one NUMA node, so returning NUMA node zero\n",
      "2021-12-18 02:04:21.021948: I tensorflow/stream_executor/cuda/cuda_gpu_executor.cc:939] successful NUMA node read from SysFS had negative value (-1), but there must be at least one NUMA node, so returning NUMA node zero\n",
      "2021-12-18 02:04:21.022220: I tensorflow/stream_executor/cuda/cuda_gpu_executor.cc:939] successful NUMA node read from SysFS had negative value (-1), but there must be at least one NUMA node, so returning NUMA node zero\n",
      "2021-12-18 02:04:21.257336: I tensorflow/stream_executor/cuda/cuda_gpu_executor.cc:939] successful NUMA node read from SysFS had negative value (-1), but there must be at least one NUMA node, so returning NUMA node zero\n",
      "2021-12-18 02:04:21.257487: I tensorflow/stream_executor/cuda/cuda_gpu_executor.cc:939] successful NUMA node read from SysFS had negative value (-1), but there must be at least one NUMA node, so returning NUMA node zero\n",
      "2021-12-18 02:04:21.257609: I tensorflow/stream_executor/cuda/cuda_gpu_executor.cc:939] successful NUMA node read from SysFS had negative value (-1), but there must be at least one NUMA node, so returning NUMA node zero\n",
      "2021-12-18 02:04:21.257718: I tensorflow/core/common_runtime/gpu/gpu_device.cc:1525] Created device /job:localhost/replica:0/task:0/device:GPU:0 with 5658 MB memory:  -> device: 0, name: NVIDIA GeForce RTX 3070 Ti, pci bus id: 0000:2d:00.0, compute capability: 8.6\n",
      "2021-12-18 02:04:21.257905: I tensorflow/core/common_runtime/process_util.cc:146] Creating new thread pool with default inter op setting: 2. Tune using inter_op_parallelism_threads for best performance.\n"
     ]
    }
   ],
   "source": [
    "model = Sequential()\n",
    "model.add(Conv2D(32, (3, 3), padding='same', input_shape=X_train.shape[1:], kernel_regularizer=regularizers.l2(0.0001)))\n",
    "model.add(Activation('relu'))\n",
    "model.add(BatchNormalization())\n",
    "model.add(Conv2D(32, (3, 3), padding='same', kernel_regularizer=regularizers.l2(0.0001)))\n",
    "model.add(Activation('relu'))\n",
    "model.add(BatchNormalization())\n",
    "model.add(MaxPooling2D(pool_size=(2, 2)))\n",
    "model.add(Dropout(0.25))\n",
    "\n",
    "# 2nd convolutional layer\n",
    "model.add(Conv2D(64, (3, 3), padding='same', kernel_regularizer=regularizers.l2(0.0001)))\n",
    "model.add(Activation('relu'))\n",
    "model.add(BatchNormalization())\n",
    "model.add(Conv2D(64, (3, 3), padding='same', kernel_regularizer=regularizers.l2(0.0001)))\n",
    "model.add(Activation('relu'))\n",
    "model.add(BatchNormalization())\n",
    "model.add(MaxPooling2D(pool_size=(2, 2)))\n",
    "model.add(Dropout(0.35))\n",
    "\n",
    "# 3rd convolutional layer\n",
    "model.add(Conv2D(128, (3, 3), padding='same', kernel_regularizer=regularizers.l2(0.0001)))\n",
    "model.add(Activation('relu'))\n",
    "model.add(BatchNormalization())\n",
    "model.add(Conv2D(128, (3, 3), padding='same', kernel_regularizer=regularizers.l2(0.0001)))\n",
    "model.add(Activation('relu'))\n",
    "model.add(BatchNormalization())\n",
    "model.add(MaxPooling2D(pool_size=(2, 2)))\n",
    "model.add(Dropout(0.45))\n",
    "\n",
    "# 4th convolutional layer\n",
    "model.add(Conv2D(256, (3, 3), padding='same', kernel_regularizer=regularizers.l2(0.0001)))\n",
    "model.add(Activation('relu'))\n",
    "model.add(BatchNormalization())\n",
    "model.add(Conv2D(256, (3, 3), padding='same', kernel_regularizer=regularizers.l2(0.0001)))\n",
    "model.add(Activation('relu'))\n",
    "model.add(BatchNormalization())\n",
    "model.add(MaxPooling2D(pool_size=(2, 2)))\n",
    "model.add(Dropout(0.55))\n",
    "\n",
    "# Flatten the output of the convolutional layers into a 1D vector for the fully connected layers\n",
    "model.add(Flatten())\n",
    "# Fully connected layer for the final classification\n",
    "model.add(Dense(10, activation='softmax'))"
   ]
  },
  {
   "cell_type": "code",
   "execution_count": 11,
   "metadata": {},
   "outputs": [
    {
     "name": "stdout",
     "output_type": "stream",
     "text": [
      "Model: \"sequential\"\n",
      "_________________________________________________________________\n",
      " Layer (type)                Output Shape              Param #   \n",
      "=================================================================\n",
      " conv2d (Conv2D)             (None, 32, 32, 32)        896       \n",
      "                                                                 \n",
      " activation (Activation)     (None, 32, 32, 32)        0         \n",
      "                                                                 \n",
      " batch_normalization (BatchN  (None, 32, 32, 32)       128       \n",
      " ormalization)                                                   \n",
      "                                                                 \n",
      " conv2d_1 (Conv2D)           (None, 32, 32, 32)        9248      \n",
      "                                                                 \n",
      " activation_1 (Activation)   (None, 32, 32, 32)        0         \n",
      "                                                                 \n",
      " batch_normalization_1 (Batc  (None, 32, 32, 32)       128       \n",
      " hNormalization)                                                 \n",
      "                                                                 \n",
      " max_pooling2d (MaxPooling2D  (None, 16, 16, 32)       0         \n",
      " )                                                               \n",
      "                                                                 \n",
      " dropout (Dropout)           (None, 16, 16, 32)        0         \n",
      "                                                                 \n",
      " conv2d_2 (Conv2D)           (None, 16, 16, 64)        18496     \n",
      "                                                                 \n",
      " activation_2 (Activation)   (None, 16, 16, 64)        0         \n",
      "                                                                 \n",
      " batch_normalization_2 (Batc  (None, 16, 16, 64)       256       \n",
      " hNormalization)                                                 \n",
      "                                                                 \n",
      " conv2d_3 (Conv2D)           (None, 16, 16, 64)        36928     \n",
      "                                                                 \n",
      " activation_3 (Activation)   (None, 16, 16, 64)        0         \n",
      "                                                                 \n",
      " batch_normalization_3 (Batc  (None, 16, 16, 64)       256       \n",
      " hNormalization)                                                 \n",
      "                                                                 \n",
      " max_pooling2d_1 (MaxPooling  (None, 8, 8, 64)         0         \n",
      " 2D)                                                             \n",
      "                                                                 \n",
      " dropout_1 (Dropout)         (None, 8, 8, 64)          0         \n",
      "                                                                 \n",
      " conv2d_4 (Conv2D)           (None, 8, 8, 128)         73856     \n",
      "                                                                 \n",
      " activation_4 (Activation)   (None, 8, 8, 128)         0         \n",
      "                                                                 \n",
      " batch_normalization_4 (Batc  (None, 8, 8, 128)        512       \n",
      " hNormalization)                                                 \n",
      "                                                                 \n",
      " conv2d_5 (Conv2D)           (None, 8, 8, 128)         147584    \n",
      "                                                                 \n",
      " activation_5 (Activation)   (None, 8, 8, 128)         0         \n",
      "                                                                 \n",
      " batch_normalization_5 (Batc  (None, 8, 8, 128)        512       \n",
      " hNormalization)                                                 \n",
      "                                                                 \n",
      " max_pooling2d_2 (MaxPooling  (None, 4, 4, 128)        0         \n",
      " 2D)                                                             \n",
      "                                                                 \n",
      " dropout_2 (Dropout)         (None, 4, 4, 128)         0         \n",
      "                                                                 \n",
      " conv2d_6 (Conv2D)           (None, 4, 4, 256)         295168    \n",
      "                                                                 \n",
      " activation_6 (Activation)   (None, 4, 4, 256)         0         \n",
      "                                                                 \n",
      " batch_normalization_6 (Batc  (None, 4, 4, 256)        1024      \n",
      " hNormalization)                                                 \n",
      "                                                                 \n",
      " conv2d_7 (Conv2D)           (None, 4, 4, 256)         590080    \n",
      "                                                                 \n",
      " activation_7 (Activation)   (None, 4, 4, 256)         0         \n",
      "                                                                 \n",
      " batch_normalization_7 (Batc  (None, 4, 4, 256)        1024      \n",
      " hNormalization)                                                 \n",
      "                                                                 \n",
      " max_pooling2d_3 (MaxPooling  (None, 2, 2, 256)        0         \n",
      " 2D)                                                             \n",
      "                                                                 \n",
      " dropout_3 (Dropout)         (None, 2, 2, 256)         0         \n",
      "                                                                 \n",
      " flatten (Flatten)           (None, 1024)              0         \n",
      "                                                                 \n",
      " dense (Dense)               (None, 10)                10250     \n",
      "                                                                 \n",
      "=================================================================\n",
      "Total params: 1,186,346\n",
      "Trainable params: 1,184,426\n",
      "Non-trainable params: 1,920\n",
      "_________________________________________________________________\n"
     ]
    }
   ],
   "source": [
    "model.summary()"
   ]
  },
  {
   "cell_type": "code",
   "execution_count": 12,
   "metadata": {},
   "outputs": [],
   "source": [
    "# We perform data augmentation to avoid overfitting\n",
    "datagen = ImageDataGenerator(\n",
    "    rotation_range=15,\n",
    "    width_shift_range=0.1,\n",
    "    height_shift_range=0.1,\n",
    "    horizontal_flip=True,\n",
    "    vertical_flip=False,\n",
    "    featurewise_center=False,\n",
    "    samplewise_center=False,\n",
    "    featurewise_std_normalization=False,\n",
    "    samplewise_std_normalization=False,\n",
    "    zca_whitening=False)\n",
    "datagen.fit(X_train)"
   ]
  },
  {
   "cell_type": "code",
   "execution_count": 13,
   "metadata": {},
   "outputs": [
    {
     "name": "stdout",
     "output_type": "stream",
     "text": [
      "Epoch 1/100\n"
     ]
    },
    {
     "name": "stderr",
     "output_type": "stream",
     "text": [
      "2021-12-18 02:04:39.124303: I tensorflow/stream_executor/cuda/cuda_dnn.cc:366] Loaded cuDNN version 8300\n",
      "2021-12-18 02:04:40.008442: I tensorflow/stream_executor/cuda/cuda_blas.cc:1774] TensorFloat-32 will be used for the matrix multiplication. This will only be logged once.\n"
     ]
    },
    {
     "name": "stdout",
     "output_type": "stream",
     "text": [
      "781/781 [==============================] - 14s 14ms/step - loss: 2.2007 - accuracy: 0.3729 - val_loss: 1.9756 - val_accuracy: 0.5110\n",
      "Epoch 2/100\n",
      "781/781 [==============================] - 11s 14ms/step - loss: 1.7048 - accuracy: 0.4923 - val_loss: 1.3112 - val_accuracy: 0.5908\n",
      "Epoch 3/100\n",
      "781/781 [==============================] - 10s 13ms/step - loss: 1.4303 - accuracy: 0.5681 - val_loss: 1.2318 - val_accuracy: 0.6230\n",
      "Epoch 4/100\n",
      "781/781 [==============================] - 10s 13ms/step - loss: 1.2491 - accuracy: 0.6221 - val_loss: 1.1449 - val_accuracy: 0.6642\n",
      "Epoch 5/100\n",
      "781/781 [==============================] - 10s 13ms/step - loss: 1.1795 - accuracy: 0.6550 - val_loss: 0.9890 - val_accuracy: 0.7151\n",
      "Epoch 6/100\n",
      "781/781 [==============================] - 10s 13ms/step - loss: 1.1070 - accuracy: 0.6839 - val_loss: 1.0310 - val_accuracy: 0.7059\n",
      "Epoch 7/100\n",
      "781/781 [==============================] - 10s 13ms/step - loss: 1.0630 - accuracy: 0.7037 - val_loss: 1.0432 - val_accuracy: 0.7110\n",
      "Epoch 8/100\n",
      "781/781 [==============================] - 11s 14ms/step - loss: 1.0608 - accuracy: 0.7130 - val_loss: 1.0053 - val_accuracy: 0.7268\n",
      "Epoch 9/100\n",
      "781/781 [==============================] - 11s 13ms/step - loss: 1.0467 - accuracy: 0.7230 - val_loss: 0.9753 - val_accuracy: 0.7501\n",
      "Epoch 10/100\n",
      "781/781 [==============================] - 10s 13ms/step - loss: 1.0299 - accuracy: 0.7357 - val_loss: 0.9413 - val_accuracy: 0.7607\n",
      "Epoch 11/100\n",
      "781/781 [==============================] - 10s 13ms/step - loss: 0.9802 - accuracy: 0.7481 - val_loss: 0.8966 - val_accuracy: 0.7769\n",
      "Epoch 12/100\n",
      "781/781 [==============================] - 11s 13ms/step - loss: 0.9976 - accuracy: 0.7493 - val_loss: 0.8854 - val_accuracy: 0.7868\n",
      "Epoch 13/100\n",
      "781/781 [==============================] - 10s 13ms/step - loss: 0.9710 - accuracy: 0.7596 - val_loss: 0.9149 - val_accuracy: 0.7872\n",
      "Epoch 14/100\n",
      "781/781 [==============================] - 11s 14ms/step - loss: 0.9553 - accuracy: 0.7651 - val_loss: 0.9624 - val_accuracy: 0.7686\n",
      "Epoch 15/100\n",
      "781/781 [==============================] - 10s 13ms/step - loss: 0.9330 - accuracy: 0.7748 - val_loss: 0.8546 - val_accuracy: 0.7983\n",
      "Epoch 16/100\n",
      "781/781 [==============================] - 11s 14ms/step - loss: 0.9282 - accuracy: 0.7770 - val_loss: 0.8634 - val_accuracy: 0.7971\n",
      "Epoch 17/100\n",
      "781/781 [==============================] - 10s 13ms/step - loss: 0.9191 - accuracy: 0.7813 - val_loss: 0.7841 - val_accuracy: 0.8276\n",
      "Epoch 18/100\n",
      "781/781 [==============================] - 10s 13ms/step - loss: 0.9040 - accuracy: 0.7847 - val_loss: 0.9874 - val_accuracy: 0.7696\n",
      "Epoch 19/100\n",
      "781/781 [==============================] - 10s 13ms/step - loss: 0.8928 - accuracy: 0.7924 - val_loss: 0.8340 - val_accuracy: 0.8153\n",
      "Epoch 20/100\n",
      "781/781 [==============================] - 11s 14ms/step - loss: 0.8823 - accuracy: 0.7925 - val_loss: 0.8399 - val_accuracy: 0.8087\n",
      "Epoch 21/100\n",
      "781/781 [==============================] - 11s 14ms/step - loss: 0.8719 - accuracy: 0.7957 - val_loss: 0.8419 - val_accuracy: 0.8137\n",
      "Epoch 22/100\n",
      "781/781 [==============================] - 10s 13ms/step - loss: 0.8653 - accuracy: 0.7997 - val_loss: 0.7455 - val_accuracy: 0.8439\n",
      "Epoch 23/100\n",
      "781/781 [==============================] - 10s 13ms/step - loss: 0.8613 - accuracy: 0.7998 - val_loss: 0.8012 - val_accuracy: 0.8241\n",
      "Epoch 24/100\n",
      "781/781 [==============================] - 10s 13ms/step - loss: 0.8544 - accuracy: 0.8060 - val_loss: 0.7766 - val_accuracy: 0.8312\n",
      "Epoch 25/100\n",
      "781/781 [==============================] - 10s 13ms/step - loss: 0.8489 - accuracy: 0.8038 - val_loss: 0.8027 - val_accuracy: 0.8270\n",
      "Epoch 26/100\n",
      "781/781 [==============================] - 10s 13ms/step - loss: 0.8412 - accuracy: 0.8064 - val_loss: 0.8060 - val_accuracy: 0.8250\n",
      "Epoch 27/100\n",
      "781/781 [==============================] - 10s 13ms/step - loss: 0.8318 - accuracy: 0.8093 - val_loss: 0.7687 - val_accuracy: 0.8361\n",
      "Epoch 28/100\n",
      "781/781 [==============================] - 11s 13ms/step - loss: 0.8292 - accuracy: 0.8119 - val_loss: 0.7731 - val_accuracy: 0.8348\n",
      "Epoch 29/100\n",
      "781/781 [==============================] - 10s 13ms/step - loss: 0.8238 - accuracy: 0.8132 - val_loss: 0.7856 - val_accuracy: 0.8291\n",
      "Epoch 30/100\n",
      "781/781 [==============================] - 11s 14ms/step - loss: 0.8255 - accuracy: 0.8127 - val_loss: 0.8250 - val_accuracy: 0.8174\n",
      "Epoch 31/100\n",
      "781/781 [==============================] - 10s 13ms/step - loss: 0.8137 - accuracy: 0.8149 - val_loss: 0.7662 - val_accuracy: 0.8323\n",
      "Epoch 32/100\n",
      "781/781 [==============================] - 11s 14ms/step - loss: 0.8100 - accuracy: 0.8156 - val_loss: 0.7806 - val_accuracy: 0.8287\n",
      "Epoch 33/100\n",
      "781/781 [==============================] - 10s 13ms/step - loss: 0.8062 - accuracy: 0.8165 - val_loss: 0.7409 - val_accuracy: 0.8433\n",
      "Epoch 34/100\n",
      "781/781 [==============================] - 10s 13ms/step - loss: 0.8052 - accuracy: 0.8164 - val_loss: 0.7494 - val_accuracy: 0.8415\n",
      "Epoch 35/100\n",
      "781/781 [==============================] - 11s 14ms/step - loss: 0.8033 - accuracy: 0.8170 - val_loss: 0.7374 - val_accuracy: 0.8427\n",
      "Epoch 36/100\n",
      "781/781 [==============================] - 11s 14ms/step - loss: 0.7962 - accuracy: 0.8196 - val_loss: 0.7205 - val_accuracy: 0.8471\n",
      "Epoch 37/100\n",
      "781/781 [==============================] - 10s 13ms/step - loss: 0.7913 - accuracy: 0.8209 - val_loss: 0.7475 - val_accuracy: 0.8397\n",
      "Epoch 38/100\n",
      "781/781 [==============================] - 10s 13ms/step - loss: 0.7902 - accuracy: 0.8226 - val_loss: 0.7637 - val_accuracy: 0.8346\n",
      "Epoch 39/100\n",
      "781/781 [==============================] - 11s 14ms/step - loss: 0.7839 - accuracy: 0.8230 - val_loss: 0.7032 - val_accuracy: 0.8530\n",
      "Epoch 40/100\n",
      "781/781 [==============================] - 10s 13ms/step - loss: 0.7851 - accuracy: 0.8230 - val_loss: 0.7317 - val_accuracy: 0.8441\n",
      "Epoch 41/100\n",
      "781/781 [==============================] - 11s 14ms/step - loss: 0.7778 - accuracy: 0.8253 - val_loss: 0.7202 - val_accuracy: 0.8512\n",
      "Epoch 42/100\n",
      "781/781 [==============================] - 11s 14ms/step - loss: 0.7735 - accuracy: 0.8271 - val_loss: 0.7701 - val_accuracy: 0.8313\n",
      "Epoch 43/100\n",
      "781/781 [==============================] - 10s 13ms/step - loss: 0.7731 - accuracy: 0.8259 - val_loss: 0.7429 - val_accuracy: 0.8418\n",
      "Epoch 44/100\n",
      "781/781 [==============================] - 10s 13ms/step - loss: 0.7750 - accuracy: 0.8259 - val_loss: 0.7104 - val_accuracy: 0.8483\n",
      "Epoch 45/100\n",
      "781/781 [==============================] - 11s 14ms/step - loss: 0.7720 - accuracy: 0.8284 - val_loss: 0.7403 - val_accuracy: 0.8436\n",
      "Epoch 46/100\n",
      "781/781 [==============================] - 11s 14ms/step - loss: 0.7704 - accuracy: 0.8276 - val_loss: 0.8136 - val_accuracy: 0.8215\n",
      "Epoch 47/100\n",
      "781/781 [==============================] - 10s 13ms/step - loss: 0.7670 - accuracy: 0.8297 - val_loss: 0.7918 - val_accuracy: 0.8268\n",
      "Epoch 48/100\n",
      "781/781 [==============================] - 12s 15ms/step - loss: 0.7640 - accuracy: 0.8289 - val_loss: 0.7194 - val_accuracy: 0.8430\n",
      "Epoch 49/100\n",
      "781/781 [==============================] - 11s 14ms/step - loss: 0.7628 - accuracy: 0.8289 - val_loss: 0.7222 - val_accuracy: 0.8470\n",
      "Epoch 50/100\n",
      "781/781 [==============================] - 11s 14ms/step - loss: 0.7626 - accuracy: 0.8297 - val_loss: 0.7121 - val_accuracy: 0.8469\n",
      "Epoch 51/100\n",
      "781/781 [==============================] - 10s 13ms/step - loss: 0.7622 - accuracy: 0.8316 - val_loss: 0.7651 - val_accuracy: 0.8324\n",
      "Epoch 52/100\n",
      "781/781 [==============================] - 11s 14ms/step - loss: 0.7572 - accuracy: 0.8316 - val_loss: 0.7828 - val_accuracy: 0.8298\n",
      "Epoch 53/100\n",
      "781/781 [==============================] - 11s 14ms/step - loss: 0.7540 - accuracy: 0.8330 - val_loss: 0.7310 - val_accuracy: 0.8464\n",
      "Epoch 54/100\n",
      "781/781 [==============================] - 10s 13ms/step - loss: 0.7565 - accuracy: 0.8305 - val_loss: 0.7526 - val_accuracy: 0.8361\n",
      "Epoch 55/100\n",
      "781/781 [==============================] - 10s 12ms/step - loss: 0.7521 - accuracy: 0.8326 - val_loss: 0.7072 - val_accuracy: 0.8486\n",
      "Epoch 56/100\n",
      "781/781 [==============================] - 10s 13ms/step - loss: 0.7549 - accuracy: 0.8313 - val_loss: 0.6956 - val_accuracy: 0.8576\n",
      "Epoch 57/100\n",
      "781/781 [==============================] - 10s 13ms/step - loss: 0.7504 - accuracy: 0.8328 - val_loss: 0.7767 - val_accuracy: 0.8312\n",
      "Epoch 58/100\n",
      "781/781 [==============================] - 11s 14ms/step - loss: 0.7509 - accuracy: 0.8340 - val_loss: 0.7009 - val_accuracy: 0.8542\n",
      "Epoch 59/100\n",
      "781/781 [==============================] - 10s 13ms/step - loss: 0.7486 - accuracy: 0.8328 - val_loss: 0.7181 - val_accuracy: 0.8496\n",
      "Epoch 60/100\n",
      "781/781 [==============================] - 10s 13ms/step - loss: 0.7491 - accuracy: 0.8353 - val_loss: 0.7199 - val_accuracy: 0.8493\n",
      "Epoch 61/100\n",
      "781/781 [==============================] - 10s 12ms/step - loss: 0.7486 - accuracy: 0.8345 - val_loss: 0.7821 - val_accuracy: 0.8312\n",
      "Epoch 62/100\n",
      "781/781 [==============================] - 11s 14ms/step - loss: 0.7456 - accuracy: 0.8350 - val_loss: 0.7176 - val_accuracy: 0.8507\n",
      "Epoch 63/100\n",
      "781/781 [==============================] - 11s 14ms/step - loss: 0.7403 - accuracy: 0.8365 - val_loss: 0.7707 - val_accuracy: 0.8375\n",
      "Epoch 64/100\n",
      "781/781 [==============================] - 11s 14ms/step - loss: 0.7433 - accuracy: 0.8361 - val_loss: 0.6838 - val_accuracy: 0.8638\n",
      "Epoch 65/100\n",
      "781/781 [==============================] - 10s 13ms/step - loss: 0.7415 - accuracy: 0.8369 - val_loss: 0.7059 - val_accuracy: 0.8526\n",
      "Epoch 66/100\n",
      "781/781 [==============================] - 11s 15ms/step - loss: 0.7391 - accuracy: 0.8360 - val_loss: 0.7223 - val_accuracy: 0.8468\n",
      "Epoch 67/100\n",
      "781/781 [==============================] - 10s 13ms/step - loss: 0.7421 - accuracy: 0.8358 - val_loss: 0.6969 - val_accuracy: 0.8540\n",
      "Epoch 68/100\n",
      "781/781 [==============================] - 10s 13ms/step - loss: 0.7367 - accuracy: 0.8374 - val_loss: 0.6992 - val_accuracy: 0.8579\n",
      "Epoch 69/100\n",
      "781/781 [==============================] - 11s 14ms/step - loss: 0.7321 - accuracy: 0.8388 - val_loss: 0.7035 - val_accuracy: 0.8561\n",
      "Epoch 70/100\n",
      "781/781 [==============================] - 11s 14ms/step - loss: 0.7390 - accuracy: 0.8361 - val_loss: 0.7033 - val_accuracy: 0.8550\n",
      "Epoch 71/100\n",
      "781/781 [==============================] - 10s 13ms/step - loss: 0.7325 - accuracy: 0.8385 - val_loss: 0.7661 - val_accuracy: 0.8373\n",
      "Epoch 72/100\n",
      "781/781 [==============================] - 11s 14ms/step - loss: 0.7376 - accuracy: 0.8392 - val_loss: 0.7166 - val_accuracy: 0.8482\n",
      "Epoch 73/100\n",
      "781/781 [==============================] - 11s 14ms/step - loss: 0.7312 - accuracy: 0.8395 - val_loss: 0.6665 - val_accuracy: 0.8659\n",
      "Epoch 74/100\n",
      "781/781 [==============================] - 11s 14ms/step - loss: 0.7332 - accuracy: 0.8388 - val_loss: 0.7158 - val_accuracy: 0.8524\n",
      "Epoch 75/100\n",
      "781/781 [==============================] - 11s 14ms/step - loss: 0.7326 - accuracy: 0.8390 - val_loss: 0.6568 - val_accuracy: 0.8688\n",
      "Epoch 76/100\n",
      "781/781 [==============================] - 10s 13ms/step - loss: 0.7319 - accuracy: 0.8396 - val_loss: 0.7195 - val_accuracy: 0.8473\n",
      "Epoch 77/100\n",
      "781/781 [==============================] - 10s 13ms/step - loss: 0.7331 - accuracy: 0.8394 - val_loss: 0.6795 - val_accuracy: 0.8602\n",
      "Epoch 78/100\n",
      "781/781 [==============================] - 10s 13ms/step - loss: 0.7276 - accuracy: 0.8404 - val_loss: 0.6925 - val_accuracy: 0.8580\n",
      "Epoch 79/100\n",
      "781/781 [==============================] - 10s 13ms/step - loss: 0.7325 - accuracy: 0.8387 - val_loss: 0.7439 - val_accuracy: 0.8432\n",
      "Epoch 80/100\n",
      "781/781 [==============================] - 10s 13ms/step - loss: 0.7269 - accuracy: 0.8405 - val_loss: 0.7019 - val_accuracy: 0.8521\n",
      "Epoch 81/100\n",
      "781/781 [==============================] - 11s 13ms/step - loss: 0.7300 - accuracy: 0.8401 - val_loss: 0.6861 - val_accuracy: 0.8576\n",
      "Epoch 82/100\n",
      "781/781 [==============================] - 10s 13ms/step - loss: 0.7275 - accuracy: 0.8398 - val_loss: 0.7047 - val_accuracy: 0.8532\n",
      "Epoch 83/100\n",
      "781/781 [==============================] - 11s 14ms/step - loss: 0.7211 - accuracy: 0.8409 - val_loss: 0.7351 - val_accuracy: 0.8457\n",
      "Epoch 84/100\n",
      "781/781 [==============================] - 11s 13ms/step - loss: 0.7275 - accuracy: 0.8399 - val_loss: 0.6790 - val_accuracy: 0.8641\n",
      "Epoch 85/100\n",
      "781/781 [==============================] - 11s 14ms/step - loss: 0.7273 - accuracy: 0.8405 - val_loss: 0.7030 - val_accuracy: 0.8544\n",
      "Epoch 86/100\n",
      "781/781 [==============================] - 10s 12ms/step - loss: 0.7205 - accuracy: 0.8432 - val_loss: 0.7051 - val_accuracy: 0.8525\n",
      "Epoch 87/100\n",
      "781/781 [==============================] - 11s 15ms/step - loss: 0.7237 - accuracy: 0.8409 - val_loss: 0.6695 - val_accuracy: 0.8621\n",
      "Epoch 88/100\n",
      "781/781 [==============================] - 11s 14ms/step - loss: 0.7182 - accuracy: 0.8406 - val_loss: 0.7067 - val_accuracy: 0.8570\n",
      "Epoch 89/100\n",
      "781/781 [==============================] - 10s 13ms/step - loss: 0.7223 - accuracy: 0.8399 - val_loss: 0.7486 - val_accuracy: 0.8391\n",
      "Epoch 90/100\n",
      "781/781 [==============================] - 11s 14ms/step - loss: 0.7163 - accuracy: 0.8437 - val_loss: 0.6514 - val_accuracy: 0.8680\n",
      "Epoch 91/100\n",
      "781/781 [==============================] - 11s 14ms/step - loss: 0.7167 - accuracy: 0.8429 - val_loss: 0.7274 - val_accuracy: 0.8457\n",
      "Epoch 92/100\n",
      "781/781 [==============================] - 10s 13ms/step - loss: 0.7151 - accuracy: 0.8439 - val_loss: 0.6708 - val_accuracy: 0.8655\n",
      "Epoch 93/100\n",
      "781/781 [==============================] - 12s 15ms/step - loss: 0.7167 - accuracy: 0.8437 - val_loss: 0.6603 - val_accuracy: 0.8638\n",
      "Epoch 94/100\n",
      "781/781 [==============================] - 11s 14ms/step - loss: 0.7162 - accuracy: 0.8433 - val_loss: 0.7338 - val_accuracy: 0.8447\n",
      "Epoch 95/100\n",
      "781/781 [==============================] - 11s 14ms/step - loss: 0.7115 - accuracy: 0.8447 - val_loss: 0.6662 - val_accuracy: 0.8641\n",
      "Epoch 96/100\n",
      "781/781 [==============================] - 10s 13ms/step - loss: 0.7131 - accuracy: 0.8453 - val_loss: 0.7713 - val_accuracy: 0.8381\n",
      "Epoch 97/100\n",
      "781/781 [==============================] - 11s 14ms/step - loss: 0.7165 - accuracy: 0.8427 - val_loss: 0.6713 - val_accuracy: 0.8618\n",
      "Epoch 98/100\n",
      "781/781 [==============================] - 11s 14ms/step - loss: 0.7072 - accuracy: 0.8457 - val_loss: 0.7668 - val_accuracy: 0.8366\n",
      "Epoch 99/100\n",
      "781/781 [==============================] - 10s 13ms/step - loss: 0.7142 - accuracy: 0.8431 - val_loss: 0.7328 - val_accuracy: 0.8443\n",
      "Epoch 100/100\n",
      "781/781 [==============================] - 10s 12ms/step - loss: 0.7116 - accuracy: 0.8452 - val_loss: 0.6569 - val_accuracy: 0.8649\n"
     ]
    }
   ],
   "source": [
    "# Compile the model\n",
    "model.compile(loss='categorical_crossentropy', optimizer=Adam(learning_rate=0.001), metrics=['accuracy'])\n",
    "model.fit(datagen.flow(X_train, Y_train, batch_size=64), epochs=100, steps_per_epoch=X_train.shape[0] // 64, verbose=1, validation_data=(X_test, Y_test))\n",
    "\n",
    "# Save the model\n",
    "model.save('cifar10_model.h5')\n",
    "\n"
   ]
  },
  {
   "cell_type": "code",
   "execution_count": 14,
   "metadata": {},
   "outputs": [
    {
     "name": "stdout",
     "output_type": "stream",
     "text": [
      "\n",
      "Loss: 0.657\n",
      "Accuracy: 0.865\n"
     ]
    }
   ],
   "source": [
    "# Evaluate the model\n",
    "loss, acc = model.evaluate(X_test, Y_test, verbose=0)\n",
    "\n",
    "# Print the results\n",
    "print(\"\\nLoss: %.3f\" % loss)\n",
    "print(\"Accuracy: %.3f\" % acc)"
   ]
  },
  {
   "cell_type": "code",
   "execution_count": null,
   "metadata": {},
   "outputs": [],
   "source": []
  }
 ],
 "metadata": {
  "kernelspec": {
   "display_name": "Python 3 (ipykernel)",
   "language": "python",
   "name": "python3"
  },
  "language_info": {
   "codemirror_mode": {
    "name": "ipython",
    "version": 3
   },
   "file_extension": ".py",
   "mimetype": "text/x-python",
   "name": "python",
   "nbconvert_exporter": "python",
   "pygments_lexer": "ipython3",
   "version": "3.10.1"
  },
  "orig_nbformat": 4
 },
 "nbformat": 4,
 "nbformat_minor": 2
}
